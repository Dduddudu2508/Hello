{
  "cells": [
    {
      "cell_type": "markdown",
      "metadata": {
        "id": "kPCkL9VZtbKi"
      },
      "source": [
        "![rmotr](https://user-images.githubusercontent.com/7065401/52071918-bda15380-2562-11e9-828c-7f95297e4a82.png)\n",
        "<hr style=\"margin-bottom: 40px;\">\n",
        "\n",
        "<img src=\"https://user-images.githubusercontent.com/7065401/39118381-910eb0c2-46e9-11e8-81f1-a5b897401c23.jpeg\"\n",
        "    style=\"width:300px; float: right; margin: 0 40px 40px 40px;\"></img>\n",
        "\n",
        "# Numpy: Numeric computing library\n",
        "\n",
        "NumPy (Numerical Python) is one of the core packages for numerical computing in Python. Pandas, Matplotlib, Statmodels and many other Scientific libraries rely on NumPy.\n",
        "\n",
        "NumPy major contributions are:\n",
        "\n",
        "* Efficient numeric computation with C primitives\n",
        "* Efficient collections with vectorized operations\n",
        "* An integrated and natural Linear Algebra API\n",
        "* A C API for connecting NumPy with libraries written in C, C++, or FORTRAN.\n",
        "\n",
        "Let's develop on efficiency. In Python, **everything is an object**, which means that even simple ints are also objects, with all the required machinery to make object work. We call them \"Boxed Ints\". In contrast, NumPy uses primitive numeric types (floats, ints) which makes storing and computation efficient."
      ]
    },
    {
      "cell_type": "markdown",
      "metadata": {
        "id": "45VPPRsktbKl"
      },
      "source": [
        "<img src=\"https://docs.google.com/drawings/d/e/2PACX-1vTkDtKYMUVdpfVb3TTpr_8rrVtpal2dOknUUEOu85wJ1RitzHHf5nsJqz1O0SnTt8BwgJjxXMYXyIqs/pub?w=726&h=396\" />\n"
      ]
    },
    {
      "cell_type": "markdown",
      "metadata": {
        "id": "dWDxB5O8tbKl"
      },
      "source": [
        "![purple-divider](https://user-images.githubusercontent.com/7065401/52071927-c1cd7100-2562-11e9-908a-dde91ba14e59.png)\n",
        "\n",
        "## Hands on!"
      ]
    },
    {
      "cell_type": "code",
      "execution_count": 2,
      "metadata": {
        "id": "isExNg9JtbKm"
      },
      "outputs": [],
      "source": [
        "import sys\n",
        "import numpy as np"
      ]
    },
    {
      "cell_type": "markdown",
      "metadata": {
        "id": "VroOAeRDtbKo"
      },
      "source": [
        "## Basic Numpy Arrays"
      ]
    },
    {
      "cell_type": "code",
      "execution_count": null,
      "metadata": {
        "id": "DwgLQfv4tbKp",
        "outputId": "771fce30-ee9a-42cf-8586-9b180529f35d"
      },
      "outputs": [
        {
          "data": {
            "text/plain": [
              "array([1, 2, 3, 4])"
            ]
          },
          "execution_count": 2,
          "metadata": {},
          "output_type": "execute_result"
        }
      ],
      "source": [
        "np.array([1, 2, 3, 4])"
      ]
    },
    {
      "cell_type": "code",
      "execution_count": null,
      "metadata": {
        "id": "-oG8m9uxtbKq"
      },
      "outputs": [],
      "source": [
        "a = np.array([1, 2, 3, 4])"
      ]
    },
    {
      "cell_type": "code",
      "execution_count": null,
      "metadata": {
        "id": "H1RLw5xKtbKr"
      },
      "outputs": [],
      "source": [
        "b = np.array([0, .5, 1, 1.5, 2])"
      ]
    },
    {
      "cell_type": "code",
      "execution_count": null,
      "metadata": {
        "id": "J8EHtfCwtbKr",
        "outputId": "506e8e83-c3a8-4b80-8e77-32d2f64d71ed"
      },
      "outputs": [
        {
          "data": {
            "text/plain": [
              "(1, 2)"
            ]
          },
          "execution_count": 5,
          "metadata": {},
          "output_type": "execute_result"
        }
      ],
      "source": [
        "a[0], a[1]"
      ]
    },
    {
      "cell_type": "code",
      "execution_count": null,
      "metadata": {
        "id": "qyfe588ctbKs",
        "outputId": "b4fe5e3c-0912-4e06-f393-833ecacdbf0a"
      },
      "outputs": [
        {
          "data": {
            "text/plain": [
              "array([1, 2, 3, 4])"
            ]
          },
          "execution_count": 6,
          "metadata": {},
          "output_type": "execute_result"
        }
      ],
      "source": [
        "a[0:]"
      ]
    },
    {
      "cell_type": "code",
      "execution_count": null,
      "metadata": {
        "id": "MMLJ_zGEtbKt",
        "outputId": "3a8736bd-3f8d-4f00-f3a4-749187ed7e0a"
      },
      "outputs": [
        {
          "data": {
            "text/plain": [
              "array([2, 3])"
            ]
          },
          "execution_count": 7,
          "metadata": {},
          "output_type": "execute_result"
        }
      ],
      "source": [
        "a[1:3]"
      ]
    },
    {
      "cell_type": "code",
      "execution_count": null,
      "metadata": {
        "scrolled": true,
        "id": "Aj9IF98ZtbKt",
        "outputId": "179fdc4f-7502-4638-f854-1e1264acd2ea"
      },
      "outputs": [
        {
          "data": {
            "text/plain": [
              "array([2, 3])"
            ]
          },
          "execution_count": 8,
          "metadata": {},
          "output_type": "execute_result"
        }
      ],
      "source": [
        "a[1:-1]"
      ]
    },
    {
      "cell_type": "code",
      "execution_count": null,
      "metadata": {
        "id": "zGvphk-QtbKu",
        "outputId": "de0cf849-0647-4484-eb03-df5af6cfc619"
      },
      "outputs": [
        {
          "data": {
            "text/plain": [
              "array([1, 3])"
            ]
          },
          "execution_count": 9,
          "metadata": {},
          "output_type": "execute_result"
        }
      ],
      "source": [
        "a[::2]"
      ]
    },
    {
      "cell_type": "code",
      "execution_count": null,
      "metadata": {
        "id": "5bgEDW8GtbKv",
        "outputId": "20316abb-ccaa-4a54-a984-8591cc0dfe19"
      },
      "outputs": [
        {
          "data": {
            "text/plain": [
              "array([0. , 0.5, 1. , 1.5, 2. ])"
            ]
          },
          "execution_count": 10,
          "metadata": {},
          "output_type": "execute_result"
        }
      ],
      "source": [
        "b"
      ]
    },
    {
      "cell_type": "code",
      "execution_count": null,
      "metadata": {
        "scrolled": true,
        "id": "WjXzOms6tbKw",
        "outputId": "cfa69957-4a3d-4cf8-8ee3-0f1ceb265101"
      },
      "outputs": [
        {
          "data": {
            "text/plain": [
              "(0.0, 1.0, 2.0)"
            ]
          },
          "execution_count": 11,
          "metadata": {},
          "output_type": "execute_result"
        }
      ],
      "source": [
        "b[0], b[2], b[-1]"
      ]
    },
    {
      "cell_type": "code",
      "execution_count": null,
      "metadata": {
        "id": "LsNRqQx4tbKw",
        "outputId": "ea3458f7-6c29-4280-96ba-3c8bc54cdbe5"
      },
      "outputs": [
        {
          "data": {
            "text/plain": [
              "array([0., 1., 2.])"
            ]
          },
          "execution_count": 12,
          "metadata": {},
          "output_type": "execute_result"
        }
      ],
      "source": [
        "b[[0, 2, -1]]"
      ]
    },
    {
      "cell_type": "markdown",
      "metadata": {
        "id": "RtFccxljtbKx"
      },
      "source": [
        "![green-divider](https://user-images.githubusercontent.com/7065401/52071924-c003ad80-2562-11e9-8297-1c6595f8a7ff.png)\n",
        "\n",
        "## Array Types"
      ]
    },
    {
      "cell_type": "code",
      "execution_count": null,
      "metadata": {
        "id": "207bXCETtbKx",
        "outputId": "0f7ba3aa-5a07-4520-fc6a-4bcabba10a1d"
      },
      "outputs": [
        {
          "data": {
            "text/plain": [
              "array([1, 2, 3, 4])"
            ]
          },
          "execution_count": 13,
          "metadata": {},
          "output_type": "execute_result"
        }
      ],
      "source": [
        "a"
      ]
    },
    {
      "cell_type": "code",
      "execution_count": null,
      "metadata": {
        "id": "kXQBiZrJtbKx",
        "outputId": "338e9251-441e-4b24-e5cc-78fbc82db575"
      },
      "outputs": [
        {
          "data": {
            "text/plain": [
              "dtype('int64')"
            ]
          },
          "execution_count": 14,
          "metadata": {},
          "output_type": "execute_result"
        }
      ],
      "source": [
        "a.dtype"
      ]
    },
    {
      "cell_type": "code",
      "execution_count": null,
      "metadata": {
        "id": "YA1wF2pZtbKy",
        "outputId": "7318895e-f667-4be0-d8d6-55fec940771e"
      },
      "outputs": [
        {
          "data": {
            "text/plain": [
              "array([0. , 0.5, 1. , 1.5, 2. ])"
            ]
          },
          "execution_count": 15,
          "metadata": {},
          "output_type": "execute_result"
        }
      ],
      "source": [
        "b"
      ]
    },
    {
      "cell_type": "code",
      "execution_count": null,
      "metadata": {
        "id": "0K2eGLOPtbKy",
        "outputId": "d2b4789b-65b0-46c2-8259-875c9628e65f"
      },
      "outputs": [
        {
          "data": {
            "text/plain": [
              "dtype('float64')"
            ]
          },
          "execution_count": 16,
          "metadata": {},
          "output_type": "execute_result"
        }
      ],
      "source": [
        "b.dtype"
      ]
    },
    {
      "cell_type": "code",
      "execution_count": null,
      "metadata": {
        "scrolled": true,
        "id": "IA0dqqhjtbKz",
        "outputId": "f1281cb8-e4bc-4ab4-e04d-dd95e0cb8655"
      },
      "outputs": [
        {
          "data": {
            "text/plain": [
              "array([1., 2., 3., 4.])"
            ]
          },
          "execution_count": 17,
          "metadata": {},
          "output_type": "execute_result"
        }
      ],
      "source": [
        "np.array([1, 2, 3, 4], dtype=np.float)"
      ]
    },
    {
      "cell_type": "code",
      "execution_count": null,
      "metadata": {
        "scrolled": true,
        "id": "XAb898xFtbKz",
        "outputId": "019bdc8d-c5a5-478a-dd7a-a08101f7c509"
      },
      "outputs": [
        {
          "data": {
            "text/plain": [
              "array([1, 2, 3, 4], dtype=int8)"
            ]
          },
          "execution_count": 18,
          "metadata": {},
          "output_type": "execute_result"
        }
      ],
      "source": [
        "np.array([1, 2, 3, 4], dtype=np.int8)"
      ]
    },
    {
      "cell_type": "code",
      "execution_count": null,
      "metadata": {
        "id": "cNGOt7Z8tbKz"
      },
      "outputs": [],
      "source": [
        "c = np.array(['a', 'b', 'c'])"
      ]
    },
    {
      "cell_type": "code",
      "execution_count": null,
      "metadata": {
        "id": "0XofBPkktbK0",
        "outputId": "c84191d3-4bb4-4f6d-868e-65bcfb0102b2"
      },
      "outputs": [
        {
          "data": {
            "text/plain": [
              "dtype('<U1')"
            ]
          },
          "execution_count": 20,
          "metadata": {},
          "output_type": "execute_result"
        }
      ],
      "source": [
        "c.dtype"
      ]
    },
    {
      "cell_type": "code",
      "execution_count": null,
      "metadata": {
        "id": "fVLiase0tbK0"
      },
      "outputs": [],
      "source": [
        "d = np.array([{'a': 1}, sys])"
      ]
    },
    {
      "cell_type": "code",
      "execution_count": null,
      "metadata": {
        "id": "_kmJ-uh8tbK0",
        "outputId": "1a49b494-d28f-4126-fcc1-e5133cc3c31c"
      },
      "outputs": [
        {
          "data": {
            "text/plain": [
              "dtype('O')"
            ]
          },
          "execution_count": 22,
          "metadata": {},
          "output_type": "execute_result"
        }
      ],
      "source": [
        "d.dtype"
      ]
    },
    {
      "cell_type": "markdown",
      "metadata": {
        "id": "eF6-lZZktbK1"
      },
      "source": [
        "![green-divider](https://user-images.githubusercontent.com/7065401/52071924-c003ad80-2562-11e9-8297-1c6595f8a7ff.png)\n",
        "\n",
        "## Dimensions and shapes"
      ]
    },
    {
      "cell_type": "code",
      "execution_count": null,
      "metadata": {
        "id": "iwJtwHMitbK1"
      },
      "outputs": [],
      "source": [
        "A = np.array([\n",
        "    [1, 2, 3],\n",
        "    [4, 5, 6]\n",
        "])"
      ]
    },
    {
      "cell_type": "code",
      "execution_count": null,
      "metadata": {
        "id": "q5cigndftbK2",
        "outputId": "e18889f2-2a63-4ea7-9a4f-7ba994433890"
      },
      "outputs": [
        {
          "data": {
            "text/plain": [
              "(2, 3)"
            ]
          },
          "execution_count": 24,
          "metadata": {},
          "output_type": "execute_result"
        }
      ],
      "source": [
        "A.shape"
      ]
    },
    {
      "cell_type": "code",
      "execution_count": null,
      "metadata": {
        "id": "M2Bk8VE3tbK2",
        "outputId": "6f6967b7-380e-4b0c-c94a-e382ebcb9385"
      },
      "outputs": [
        {
          "data": {
            "text/plain": [
              "2"
            ]
          },
          "execution_count": 25,
          "metadata": {},
          "output_type": "execute_result"
        }
      ],
      "source": [
        "A.ndim"
      ]
    },
    {
      "cell_type": "code",
      "execution_count": null,
      "metadata": {
        "id": "8_3wr0T_tbK3",
        "outputId": "0afd4795-e009-426f-f522-24b3469b35a9"
      },
      "outputs": [
        {
          "data": {
            "text/plain": [
              "6"
            ]
          },
          "execution_count": 26,
          "metadata": {},
          "output_type": "execute_result"
        }
      ],
      "source": [
        "A.size"
      ]
    },
    {
      "cell_type": "code",
      "execution_count": null,
      "metadata": {
        "id": "0N8iqOvKtbK3"
      },
      "outputs": [],
      "source": [
        "B = np.array([\n",
        "    [\n",
        "        [12, 11, 10],\n",
        "        [9, 8, 7],\n",
        "    ],\n",
        "    [\n",
        "        [6, 5, 4],\n",
        "        [3, 2, 1]\n",
        "    ]\n",
        "])"
      ]
    },
    {
      "cell_type": "code",
      "execution_count": null,
      "metadata": {
        "id": "-1BXBpVbtbK3",
        "outputId": "46b64cd8-d4b7-46e4-95af-d81b5436d6bb"
      },
      "outputs": [
        {
          "data": {
            "text/plain": [
              "array([[[12, 11, 10],\n",
              "        [ 9,  8,  7]],\n",
              "\n",
              "       [[ 6,  5,  4],\n",
              "        [ 3,  2,  1]]])"
            ]
          },
          "execution_count": 28,
          "metadata": {},
          "output_type": "execute_result"
        }
      ],
      "source": [
        "B"
      ]
    },
    {
      "cell_type": "code",
      "execution_count": null,
      "metadata": {
        "id": "PkRzwRd5tbK4",
        "outputId": "b5d7f8c5-f63c-4f63-9b12-d9d5c06d88ed"
      },
      "outputs": [
        {
          "data": {
            "text/plain": [
              "(2, 2, 3)"
            ]
          },
          "execution_count": 29,
          "metadata": {},
          "output_type": "execute_result"
        }
      ],
      "source": [
        "B.shape"
      ]
    },
    {
      "cell_type": "code",
      "execution_count": null,
      "metadata": {
        "id": "2_tIHBVztbK4",
        "outputId": "817500a3-339c-42d7-9525-4c3e71f01ee8"
      },
      "outputs": [
        {
          "data": {
            "text/plain": [
              "3"
            ]
          },
          "execution_count": 30,
          "metadata": {},
          "output_type": "execute_result"
        }
      ],
      "source": [
        "B.ndim"
      ]
    },
    {
      "cell_type": "code",
      "execution_count": null,
      "metadata": {
        "id": "TK7t39jRtbK5",
        "outputId": "5ae0c9f4-50cb-4510-c5d6-166fc9c2da31"
      },
      "outputs": [
        {
          "data": {
            "text/plain": [
              "12"
            ]
          },
          "execution_count": 31,
          "metadata": {},
          "output_type": "execute_result"
        }
      ],
      "source": [
        "B.size"
      ]
    },
    {
      "cell_type": "markdown",
      "metadata": {
        "id": "fuNwNVfdtbK5"
      },
      "source": [
        "If the shape isn't consistent, it'll just fall back to regular Python objects:"
      ]
    },
    {
      "cell_type": "code",
      "execution_count": null,
      "metadata": {
        "id": "_u7gWIhrtbK5"
      },
      "outputs": [],
      "source": [
        "C = np.array([\n",
        "    [\n",
        "        [12, 11, 10],\n",
        "        [9, 8, 7],\n",
        "    ],\n",
        "    [\n",
        "        [6, 5, 4]\n",
        "    ]\n",
        "])"
      ]
    },
    {
      "cell_type": "code",
      "execution_count": null,
      "metadata": {
        "id": "q_4bjPFWtbLQ",
        "outputId": "7e694fe3-03e6-4c38-b80e-473695220b67"
      },
      "outputs": [
        {
          "data": {
            "text/plain": [
              "dtype('O')"
            ]
          },
          "execution_count": 33,
          "metadata": {},
          "output_type": "execute_result"
        }
      ],
      "source": [
        "C.dtype"
      ]
    },
    {
      "cell_type": "code",
      "execution_count": null,
      "metadata": {
        "id": "vmebmTDqtbLQ",
        "outputId": "d8d313ff-910b-4431-cb36-504c08cbd0bf"
      },
      "outputs": [
        {
          "data": {
            "text/plain": [
              "(2,)"
            ]
          },
          "execution_count": 34,
          "metadata": {},
          "output_type": "execute_result"
        }
      ],
      "source": [
        "C.shape"
      ]
    },
    {
      "cell_type": "code",
      "execution_count": null,
      "metadata": {
        "id": "D8__GqPOtbLR",
        "outputId": "c7790f38-2189-4d7f-b921-1c9964b05c05"
      },
      "outputs": [
        {
          "data": {
            "text/plain": [
              "2"
            ]
          },
          "execution_count": 35,
          "metadata": {},
          "output_type": "execute_result"
        }
      ],
      "source": [
        "C.size"
      ]
    },
    {
      "cell_type": "code",
      "execution_count": null,
      "metadata": {
        "id": "_zaEvkbdtbLR"
      },
      "outputs": [],
      "source": [
        "type(C[0])"
      ]
    },
    {
      "cell_type": "markdown",
      "metadata": {
        "id": "i97dFBvwtbLR"
      },
      "source": [
        "![green-divider](https://user-images.githubusercontent.com/7065401/52071924-c003ad80-2562-11e9-8297-1c6595f8a7ff.png)\n",
        "\n",
        "## Indexing and Slicing of Matrices"
      ]
    },
    {
      "cell_type": "code",
      "execution_count": null,
      "metadata": {
        "id": "bSt61IR8tbLS"
      },
      "outputs": [],
      "source": [
        "# Square matrix\n",
        "A = np.array([\n",
        "#.   0. 1. 2\n",
        "    [1, 2, 3], # 0\n",
        "    [4, 5, 6], # 1\n",
        "    [7, 8, 9]  # 2\n",
        "])"
      ]
    },
    {
      "cell_type": "code",
      "execution_count": null,
      "metadata": {
        "id": "_bhJgQabtbLS",
        "outputId": "e39bf574-0b16-49ae-f945-e202cc43fc32"
      },
      "outputs": [
        {
          "data": {
            "text/plain": [
              "array([4, 5, 6])"
            ]
          },
          "execution_count": 37,
          "metadata": {},
          "output_type": "execute_result"
        }
      ],
      "source": [
        "A[1]"
      ]
    },
    {
      "cell_type": "code",
      "execution_count": null,
      "metadata": {
        "id": "ZZkBsK73tbLS",
        "outputId": "bd953d24-1459-4070-b330-9ae85d6174f3"
      },
      "outputs": [
        {
          "data": {
            "text/plain": [
              "4"
            ]
          },
          "execution_count": 38,
          "metadata": {},
          "output_type": "execute_result"
        }
      ],
      "source": [
        "A[1][0]"
      ]
    },
    {
      "cell_type": "code",
      "execution_count": null,
      "metadata": {
        "id": "jwK-eG6ZtbLT"
      },
      "outputs": [],
      "source": [
        "# A[d1, d2, d3, d4]"
      ]
    },
    {
      "cell_type": "code",
      "execution_count": null,
      "metadata": {
        "id": "I5KvSigCtbLT",
        "outputId": "82b03efc-c44d-4dba-feb5-237dbbcc5035"
      },
      "outputs": [
        {
          "data": {
            "text/plain": [
              "4"
            ]
          },
          "execution_count": 39,
          "metadata": {},
          "output_type": "execute_result"
        }
      ],
      "source": [
        "A[1, 0]"
      ]
    },
    {
      "cell_type": "code",
      "execution_count": null,
      "metadata": {
        "scrolled": true,
        "id": "jwfkW-ZVtbLT",
        "outputId": "3b66de42-94b1-4b6e-a44b-78499b434be5"
      },
      "outputs": [
        {
          "data": {
            "text/plain": [
              "array([[1, 2, 3],\n",
              "       [4, 5, 6]])"
            ]
          },
          "execution_count": 40,
          "metadata": {},
          "output_type": "execute_result"
        }
      ],
      "source": [
        "A[0:2]"
      ]
    },
    {
      "cell_type": "code",
      "execution_count": null,
      "metadata": {
        "id": "dV0IpMuztbLV",
        "outputId": "adacc1b2-e2de-4c00-ae12-cc04fd1795ff"
      },
      "outputs": [
        {
          "data": {
            "text/plain": [
              "array([[1, 2],\n",
              "       [4, 5],\n",
              "       [7, 8]])"
            ]
          },
          "execution_count": 41,
          "metadata": {},
          "output_type": "execute_result"
        }
      ],
      "source": [
        "A[:, :2]"
      ]
    },
    {
      "cell_type": "code",
      "execution_count": null,
      "metadata": {
        "id": "5YlnlBZ9tbLV",
        "outputId": "2d0af443-13ed-4eda-debd-94243c714af8"
      },
      "outputs": [
        {
          "data": {
            "text/plain": [
              "array([[1, 2],\n",
              "       [4, 5]])"
            ]
          },
          "execution_count": 42,
          "metadata": {},
          "output_type": "execute_result"
        }
      ],
      "source": [
        "A[:2, :2]"
      ]
    },
    {
      "cell_type": "code",
      "execution_count": null,
      "metadata": {
        "id": "PkgvPRGbtbLW",
        "outputId": "dc978390-249b-4208-9443-081cb33e7b70"
      },
      "outputs": [
        {
          "data": {
            "text/plain": [
              "array([[3],\n",
              "       [6]])"
            ]
          },
          "execution_count": 43,
          "metadata": {},
          "output_type": "execute_result"
        }
      ],
      "source": [
        "A[:2, 2:]"
      ]
    },
    {
      "cell_type": "code",
      "execution_count": null,
      "metadata": {
        "id": "GjumfUcdtbLX",
        "outputId": "e2d6ccad-0f3c-4da5-d25e-7e4d8d312e7d"
      },
      "outputs": [
        {
          "data": {
            "text/plain": [
              "array([[1, 2, 3],\n",
              "       [4, 5, 6],\n",
              "       [7, 8, 9]])"
            ]
          },
          "execution_count": 44,
          "metadata": {},
          "output_type": "execute_result"
        }
      ],
      "source": [
        "A"
      ]
    },
    {
      "cell_type": "code",
      "execution_count": null,
      "metadata": {
        "id": "TZ1fIfvltbLX"
      },
      "outputs": [],
      "source": [
        "A[1] = np.array([10, 10, 10])"
      ]
    },
    {
      "cell_type": "code",
      "execution_count": null,
      "metadata": {
        "id": "ntiJMQk2tbLY",
        "outputId": "ac30b8be-d64b-470c-cbca-b021fdc0662c"
      },
      "outputs": [
        {
          "data": {
            "text/plain": [
              "array([[ 1,  2,  3],\n",
              "       [10, 10, 10],\n",
              "       [ 7,  8,  9]])"
            ]
          },
          "execution_count": 46,
          "metadata": {},
          "output_type": "execute_result"
        }
      ],
      "source": [
        "A"
      ]
    },
    {
      "cell_type": "code",
      "execution_count": null,
      "metadata": {
        "id": "JS6si0jstbLY"
      },
      "outputs": [],
      "source": [
        "A[2] = 99"
      ]
    },
    {
      "cell_type": "code",
      "execution_count": null,
      "metadata": {
        "id": "rxE74oFstbLZ",
        "outputId": "773737e4-4703-40b0-a5c5-cade149437bd"
      },
      "outputs": [
        {
          "data": {
            "text/plain": [
              "array([[ 1,  2,  3],\n",
              "       [10, 10, 10],\n",
              "       [99, 99, 99]])"
            ]
          },
          "execution_count": 48,
          "metadata": {},
          "output_type": "execute_result"
        }
      ],
      "source": [
        "A"
      ]
    },
    {
      "cell_type": "markdown",
      "metadata": {
        "id": "pQOxjOCltbLa"
      },
      "source": [
        "![green-divider](https://user-images.githubusercontent.com/7065401/52071924-c003ad80-2562-11e9-8297-1c6595f8a7ff.png)\n",
        "\n",
        "## Summary statistics"
      ]
    },
    {
      "cell_type": "code",
      "execution_count": null,
      "metadata": {
        "id": "UY96n6WutbLa"
      },
      "outputs": [],
      "source": [
        "a = np.array([1, 2, 3, 4])"
      ]
    },
    {
      "cell_type": "code",
      "execution_count": null,
      "metadata": {
        "id": "LwG1hdZktbLb",
        "outputId": "f6bf503c-434a-4a90-9387-6219d0c6c81d"
      },
      "outputs": [
        {
          "data": {
            "text/plain": [
              "10"
            ]
          },
          "execution_count": 50,
          "metadata": {},
          "output_type": "execute_result"
        }
      ],
      "source": [
        "a.sum()"
      ]
    },
    {
      "cell_type": "code",
      "execution_count": null,
      "metadata": {
        "id": "jQRxx6ZftbLc",
        "outputId": "ce30bb0b-6b0f-4a61-d63b-5f8f7337ba80"
      },
      "outputs": [
        {
          "data": {
            "text/plain": [
              "2.5"
            ]
          },
          "execution_count": 51,
          "metadata": {},
          "output_type": "execute_result"
        }
      ],
      "source": [
        "a.mean()"
      ]
    },
    {
      "cell_type": "code",
      "execution_count": null,
      "metadata": {
        "id": "uDqEtxOvtbLd",
        "outputId": "4b56808d-7420-49d4-ab35-73d2db949190"
      },
      "outputs": [
        {
          "data": {
            "text/plain": [
              "1.118033988749895"
            ]
          },
          "execution_count": 52,
          "metadata": {},
          "output_type": "execute_result"
        }
      ],
      "source": [
        "a.std()"
      ]
    },
    {
      "cell_type": "code",
      "execution_count": null,
      "metadata": {
        "id": "clk8tFvetbLd",
        "outputId": "e72b5263-7354-4011-f9c1-a7495ab364da"
      },
      "outputs": [
        {
          "data": {
            "text/plain": [
              "1.25"
            ]
          },
          "execution_count": 53,
          "metadata": {},
          "output_type": "execute_result"
        }
      ],
      "source": [
        "a.var()"
      ]
    },
    {
      "cell_type": "code",
      "execution_count": null,
      "metadata": {
        "id": "kqvRQRuKtbLe"
      },
      "outputs": [],
      "source": [
        "A = np.array([\n",
        "    [1, 2, 3],\n",
        "    [4, 5, 6],\n",
        "    [7, 8, 9]\n",
        "])"
      ]
    },
    {
      "cell_type": "code",
      "execution_count": null,
      "metadata": {
        "id": "L0_ouuJ9tbLe",
        "outputId": "2ac5bd96-b2e7-4a4b-f74a-de8bfed49ac9"
      },
      "outputs": [
        {
          "data": {
            "text/plain": [
              "45"
            ]
          },
          "execution_count": 55,
          "metadata": {},
          "output_type": "execute_result"
        }
      ],
      "source": [
        "A.sum()"
      ]
    },
    {
      "cell_type": "code",
      "execution_count": null,
      "metadata": {
        "id": "fyBINQkztbLf",
        "outputId": "b4aefbfb-160d-4791-b571-589d7573d10a"
      },
      "outputs": [
        {
          "data": {
            "text/plain": [
              "5.0"
            ]
          },
          "execution_count": 56,
          "metadata": {},
          "output_type": "execute_result"
        }
      ],
      "source": [
        "A.mean()"
      ]
    },
    {
      "cell_type": "code",
      "execution_count": null,
      "metadata": {
        "id": "KDhPRTm_tbLg",
        "outputId": "3d1063ed-8905-44dc-a4c4-2684fc9c084b"
      },
      "outputs": [
        {
          "data": {
            "text/plain": [
              "2.581988897471611"
            ]
          },
          "execution_count": 57,
          "metadata": {},
          "output_type": "execute_result"
        }
      ],
      "source": [
        "A.std()"
      ]
    },
    {
      "cell_type": "code",
      "execution_count": null,
      "metadata": {
        "id": "fx3nMoV4tbLg",
        "outputId": "ee2aa311-261b-4a03-d1c6-99b22f5c7341"
      },
      "outputs": [
        {
          "data": {
            "text/plain": [
              "array([12, 15, 18])"
            ]
          },
          "execution_count": 58,
          "metadata": {},
          "output_type": "execute_result"
        }
      ],
      "source": [
        "A.sum(axis=0)"
      ]
    },
    {
      "cell_type": "code",
      "execution_count": null,
      "metadata": {
        "id": "OMUeAOqwtbLh",
        "outputId": "1ce09bea-8d63-4fa8-91cd-8483e531b0c3"
      },
      "outputs": [
        {
          "data": {
            "text/plain": [
              "array([ 6, 15, 24])"
            ]
          },
          "execution_count": 59,
          "metadata": {},
          "output_type": "execute_result"
        }
      ],
      "source": [
        "A.sum(axis=1)"
      ]
    },
    {
      "cell_type": "code",
      "execution_count": null,
      "metadata": {
        "scrolled": true,
        "id": "Xg78GdvetbLh",
        "outputId": "d1fa06a9-faa0-4eff-e84f-115f57a087f1"
      },
      "outputs": [
        {
          "data": {
            "text/plain": [
              "array([4., 5., 6.])"
            ]
          },
          "execution_count": 60,
          "metadata": {},
          "output_type": "execute_result"
        }
      ],
      "source": [
        "A.mean(axis=0)"
      ]
    },
    {
      "cell_type": "code",
      "execution_count": null,
      "metadata": {
        "id": "nAs_Dqj1tbLi",
        "outputId": "f1c56598-bbf0-454d-a9c3-dbf498e316a4"
      },
      "outputs": [
        {
          "data": {
            "text/plain": [
              "array([2., 5., 8.])"
            ]
          },
          "execution_count": 61,
          "metadata": {},
          "output_type": "execute_result"
        }
      ],
      "source": [
        "A.mean(axis=1)"
      ]
    },
    {
      "cell_type": "code",
      "execution_count": null,
      "metadata": {
        "id": "dlt3VQM1tbLi",
        "outputId": "8d1b523b-6297-472b-e1e9-b5096f33c4cd"
      },
      "outputs": [
        {
          "data": {
            "text/plain": [
              "array([2.44948974, 2.44948974, 2.44948974])"
            ]
          },
          "execution_count": 62,
          "metadata": {},
          "output_type": "execute_result"
        }
      ],
      "source": [
        "A.std(axis=0)"
      ]
    },
    {
      "cell_type": "code",
      "execution_count": null,
      "metadata": {
        "scrolled": true,
        "id": "0bHr3SfmtbLj",
        "outputId": "aae11233-d4a8-495f-c9ff-5cc3d6e570f9"
      },
      "outputs": [
        {
          "data": {
            "text/plain": [
              "array([0.81649658, 0.81649658, 0.81649658])"
            ]
          },
          "execution_count": 63,
          "metadata": {},
          "output_type": "execute_result"
        }
      ],
      "source": [
        "A.std(axis=1)"
      ]
    },
    {
      "cell_type": "markdown",
      "metadata": {
        "id": "6L1Go736tbLj"
      },
      "source": [
        "And [many more](https://docs.scipy.org/doc/numpy-1.13.0/reference/arrays.ndarray.html#array-methods)..."
      ]
    },
    {
      "cell_type": "markdown",
      "metadata": {
        "id": "FCZ5DJtntbLk"
      },
      "source": [
        "![green-divider](https://user-images.githubusercontent.com/7065401/52071924-c003ad80-2562-11e9-8297-1c6595f8a7ff.png)\n",
        "\n",
        "## Broadcasting and Vectorized operations"
      ]
    },
    {
      "cell_type": "code",
      "execution_count": 3,
      "metadata": {
        "id": "5l0dTx_itbLk"
      },
      "outputs": [],
      "source": [
        "a = np.arange(4)"
      ]
    },
    {
      "cell_type": "code",
      "execution_count": 4,
      "metadata": {
        "id": "zczE3HBbtbLk",
        "outputId": "e87f7d0a-43b7-4056-9b96-af4de5f4931e",
        "colab": {
          "base_uri": "https://localhost:8080/"
        }
      },
      "outputs": [
        {
          "output_type": "execute_result",
          "data": {
            "text/plain": [
              "array([0, 1, 2, 3])"
            ]
          },
          "metadata": {},
          "execution_count": 4
        }
      ],
      "source": [
        "a"
      ]
    },
    {
      "cell_type": "code",
      "execution_count": null,
      "metadata": {
        "id": "wcgb1PY-tbLl",
        "outputId": "1e3e4a71-79ed-485a-e9df-c53f365fa21a"
      },
      "outputs": [
        {
          "data": {
            "text/plain": [
              "array([10, 11, 12, 13])"
            ]
          },
          "execution_count": 68,
          "metadata": {},
          "output_type": "execute_result"
        }
      ],
      "source": [
        "a + 10"
      ]
    },
    {
      "cell_type": "code",
      "execution_count": null,
      "metadata": {
        "id": "NQPyPq8ztbLl",
        "outputId": "d3787aae-fe1c-4557-b8fa-71e94850e5a2"
      },
      "outputs": [
        {
          "data": {
            "text/plain": [
              "array([ 0, 10, 20, 30])"
            ]
          },
          "execution_count": 69,
          "metadata": {},
          "output_type": "execute_result"
        }
      ],
      "source": [
        "a * 10"
      ]
    },
    {
      "cell_type": "code",
      "execution_count": null,
      "metadata": {
        "id": "ZLI925PbtbLm",
        "outputId": "a9fefbf1-25e6-4f8a-855c-81a26eaef8f4"
      },
      "outputs": [
        {
          "data": {
            "text/plain": [
              "array([0, 1, 2, 3])"
            ]
          },
          "execution_count": 70,
          "metadata": {},
          "output_type": "execute_result"
        }
      ],
      "source": [
        "a"
      ]
    },
    {
      "cell_type": "code",
      "execution_count": null,
      "metadata": {
        "id": "1Ji5pHlrtbLm"
      },
      "outputs": [],
      "source": [
        "a += 100"
      ]
    },
    {
      "cell_type": "code",
      "execution_count": null,
      "metadata": {
        "id": "ILgyMjaDtbLm",
        "outputId": "193eb6d5-e8c1-4d91-f507-a715de2225b6"
      },
      "outputs": [
        {
          "data": {
            "text/plain": [
              "array([100, 101, 102, 103])"
            ]
          },
          "execution_count": 73,
          "metadata": {},
          "output_type": "execute_result"
        }
      ],
      "source": [
        "a"
      ]
    },
    {
      "cell_type": "code",
      "execution_count": null,
      "metadata": {
        "id": "RNxk5NvxtbLn"
      },
      "outputs": [],
      "source": [
        "l = [0, 1, 2, 3]"
      ]
    },
    {
      "cell_type": "code",
      "execution_count": null,
      "metadata": {
        "id": "MtgEWfuttbLn",
        "outputId": "442f7c13-e99d-4399-aca8-71fb47403745"
      },
      "outputs": [
        {
          "data": {
            "text/plain": [
              "[0, 10, 20, 30]"
            ]
          },
          "execution_count": 75,
          "metadata": {},
          "output_type": "execute_result"
        }
      ],
      "source": [
        "[i * 10 for i in l]"
      ]
    },
    {
      "cell_type": "code",
      "execution_count": null,
      "metadata": {
        "id": "tUGdNpfmtbLn"
      },
      "outputs": [],
      "source": [
        "a = np.arange(4)"
      ]
    },
    {
      "cell_type": "code",
      "execution_count": null,
      "metadata": {
        "id": "M0RkhblBtbLo",
        "outputId": "d6dbd441-38b4-45ec-cee3-6704f75ee169"
      },
      "outputs": [
        {
          "data": {
            "text/plain": [
              "array([0, 1, 2, 3])"
            ]
          },
          "execution_count": 77,
          "metadata": {},
          "output_type": "execute_result"
        }
      ],
      "source": [
        "a"
      ]
    },
    {
      "cell_type": "code",
      "execution_count": null,
      "metadata": {
        "id": "Ha_2GNOHtbLo"
      },
      "outputs": [],
      "source": [
        "b = np.array([10, 10, 10, 10])"
      ]
    },
    {
      "cell_type": "code",
      "execution_count": null,
      "metadata": {
        "id": "joEqUmaptbLo",
        "outputId": "3d405fd7-696f-4151-b563-ee215c6c7fb7"
      },
      "outputs": [
        {
          "data": {
            "text/plain": [
              "array([10, 10, 10, 10])"
            ]
          },
          "execution_count": 79,
          "metadata": {},
          "output_type": "execute_result"
        }
      ],
      "source": [
        "b"
      ]
    },
    {
      "cell_type": "code",
      "execution_count": null,
      "metadata": {
        "id": "ZnHAqRsNtbLp",
        "outputId": "48e86677-16ff-43ea-89fc-9157b8945ca7"
      },
      "outputs": [
        {
          "data": {
            "text/plain": [
              "array([10, 11, 12, 13])"
            ]
          },
          "execution_count": 80,
          "metadata": {},
          "output_type": "execute_result"
        }
      ],
      "source": [
        "a + b"
      ]
    },
    {
      "cell_type": "code",
      "execution_count": null,
      "metadata": {
        "id": "orrV5SietbLp",
        "outputId": "519c6357-3745-4cc6-afbf-27e8803c6118"
      },
      "outputs": [
        {
          "data": {
            "text/plain": [
              "array([ 0, 10, 20, 30])"
            ]
          },
          "execution_count": 81,
          "metadata": {},
          "output_type": "execute_result"
        }
      ],
      "source": [
        "a * b"
      ]
    },
    {
      "cell_type": "markdown",
      "metadata": {
        "id": "fAXQnga9tbLq"
      },
      "source": [
        "![green-divider](https://user-images.githubusercontent.com/7065401/52071924-c003ad80-2562-11e9-8297-1c6595f8a7ff.png)\n",
        "\n",
        "## Boolean arrays\n",
        "_(Also called masks)_"
      ]
    },
    {
      "cell_type": "code",
      "execution_count": null,
      "metadata": {
        "id": "7g8pL5rctbLq"
      },
      "outputs": [],
      "source": [
        "a = np.arange(4)"
      ]
    },
    {
      "cell_type": "code",
      "execution_count": null,
      "metadata": {
        "id": "Nd3Tq3eptbLr",
        "outputId": "c102d4b2-9d5c-4580-8220-650279e8df95"
      },
      "outputs": [
        {
          "data": {
            "text/plain": [
              "array([0, 1, 2, 3])"
            ]
          },
          "execution_count": 83,
          "metadata": {},
          "output_type": "execute_result"
        }
      ],
      "source": [
        "a"
      ]
    },
    {
      "cell_type": "code",
      "execution_count": null,
      "metadata": {
        "id": "q2LGVCMntbLs",
        "outputId": "817822a3-a7f2-4c16-b75f-e564cddf36d5"
      },
      "outputs": [
        {
          "data": {
            "text/plain": [
              "(0, 3)"
            ]
          },
          "execution_count": 85,
          "metadata": {},
          "output_type": "execute_result"
        }
      ],
      "source": [
        "a[0], a[-1]"
      ]
    },
    {
      "cell_type": "code",
      "execution_count": null,
      "metadata": {
        "id": "4Ode8lL-tbLs",
        "outputId": "8267c0d8-b821-4e1b-83ef-afc417683455"
      },
      "outputs": [
        {
          "data": {
            "text/plain": [
              "array([0, 3])"
            ]
          },
          "execution_count": 84,
          "metadata": {},
          "output_type": "execute_result"
        }
      ],
      "source": [
        "a[[0, -1]]"
      ]
    },
    {
      "cell_type": "code",
      "execution_count": null,
      "metadata": {
        "id": "6UczY7gGtbLt",
        "outputId": "e0368876-b1a7-478c-b88c-40c4c0c1902e"
      },
      "outputs": [
        {
          "data": {
            "text/plain": [
              "array([0, 3])"
            ]
          },
          "execution_count": 86,
          "metadata": {},
          "output_type": "execute_result"
        }
      ],
      "source": [
        "a[[True, False, False, True]]"
      ]
    },
    {
      "cell_type": "code",
      "execution_count": null,
      "metadata": {
        "id": "nQ2Aq_78tbLt",
        "outputId": "a3e46c69-1706-4c61-8a0e-2be26212bfe0"
      },
      "outputs": [
        {
          "data": {
            "text/plain": [
              "array([0, 1, 2, 3])"
            ]
          },
          "execution_count": 89,
          "metadata": {},
          "output_type": "execute_result"
        }
      ],
      "source": [
        "a"
      ]
    },
    {
      "cell_type": "code",
      "execution_count": null,
      "metadata": {
        "id": "6uKz-rNYtbLt",
        "outputId": "71aff23f-d2ba-46a7-e737-efec7f52d93c"
      },
      "outputs": [
        {
          "data": {
            "text/plain": [
              "array([False, False,  True,  True])"
            ]
          },
          "execution_count": 88,
          "metadata": {},
          "output_type": "execute_result"
        }
      ],
      "source": [
        "a >= 2"
      ]
    },
    {
      "cell_type": "code",
      "execution_count": null,
      "metadata": {
        "id": "28BjY1rdtbLu",
        "outputId": "d1154570-fa3f-4933-e430-56fcbbf12fbe"
      },
      "outputs": [
        {
          "data": {
            "text/plain": [
              "array([2, 3])"
            ]
          },
          "execution_count": 90,
          "metadata": {},
          "output_type": "execute_result"
        }
      ],
      "source": [
        "a[a >= 2]"
      ]
    },
    {
      "cell_type": "code",
      "execution_count": null,
      "metadata": {
        "id": "wiPoS9_OtbLv",
        "outputId": "95f7ac14-ebcb-4bd0-c0f9-d63bb4d2091d"
      },
      "outputs": [
        {
          "data": {
            "text/plain": [
              "1.5"
            ]
          },
          "execution_count": 91,
          "metadata": {},
          "output_type": "execute_result"
        }
      ],
      "source": [
        "a.mean()"
      ]
    },
    {
      "cell_type": "code",
      "execution_count": null,
      "metadata": {
        "scrolled": true,
        "id": "18BWZCW2tbLv",
        "outputId": "2114fb31-147a-44ab-c68c-7528957e2aff"
      },
      "outputs": [
        {
          "data": {
            "text/plain": [
              "array([2, 3])"
            ]
          },
          "execution_count": 92,
          "metadata": {},
          "output_type": "execute_result"
        }
      ],
      "source": [
        "a[a > a.mean()]"
      ]
    },
    {
      "cell_type": "code",
      "execution_count": null,
      "metadata": {
        "id": "ra33pypltbLw",
        "outputId": "c3ee24d1-00e4-481f-db0f-e7013fe43988"
      },
      "outputs": [
        {
          "data": {
            "text/plain": [
              "array([0, 1])"
            ]
          },
          "execution_count": 93,
          "metadata": {},
          "output_type": "execute_result"
        }
      ],
      "source": [
        "a[~(a > a.mean())]"
      ]
    },
    {
      "cell_type": "code",
      "execution_count": null,
      "metadata": {
        "id": "6qJmvJUEtbLx",
        "outputId": "d3a98655-1c3f-4bd5-f032-19bd20e84e83"
      },
      "outputs": [
        {
          "data": {
            "text/plain": [
              "array([0, 1])"
            ]
          },
          "execution_count": 94,
          "metadata": {},
          "output_type": "execute_result"
        }
      ],
      "source": [
        "a[(a == 0) | (a == 1)]"
      ]
    },
    {
      "cell_type": "code",
      "execution_count": null,
      "metadata": {
        "id": "IvwwI_N6tbLx",
        "outputId": "58e35162-21b0-4aa1-acd3-a91092ca372d"
      },
      "outputs": [
        {
          "data": {
            "text/plain": [
              "array([0, 2])"
            ]
          },
          "execution_count": 95,
          "metadata": {},
          "output_type": "execute_result"
        }
      ],
      "source": [
        "a[(a <= 2) & (a % 2 == 0)]"
      ]
    },
    {
      "cell_type": "code",
      "execution_count": null,
      "metadata": {
        "id": "PGV-P1sYtbLy"
      },
      "outputs": [],
      "source": [
        "A = np.random.randint(100, size=(3, 3))"
      ]
    },
    {
      "cell_type": "code",
      "execution_count": null,
      "metadata": {
        "id": "nt_lZAEhtbLy",
        "outputId": "3c5f5c00-a798-4e2f-9db0-6308ad110848"
      },
      "outputs": [
        {
          "data": {
            "text/plain": [
              "array([[71,  6, 42],\n",
              "       [40, 94, 24],\n",
              "       [ 2, 85, 36]])"
            ]
          },
          "execution_count": 97,
          "metadata": {},
          "output_type": "execute_result"
        }
      ],
      "source": [
        "A"
      ]
    },
    {
      "cell_type": "code",
      "execution_count": null,
      "metadata": {
        "id": "hkCWUaRBtbLz",
        "outputId": "f936846a-80cf-46d8-af74-746c0c2e8157"
      },
      "outputs": [
        {
          "data": {
            "text/plain": [
              "array([71, 42, 94,  2, 36])"
            ]
          },
          "execution_count": 98,
          "metadata": {},
          "output_type": "execute_result"
        }
      ],
      "source": [
        "A[np.array([\n",
        "    [True, False, True],\n",
        "    [False, True, False],\n",
        "    [True, False, True]\n",
        "])]"
      ]
    },
    {
      "cell_type": "code",
      "execution_count": null,
      "metadata": {
        "id": "j7jMk7FWtbL0",
        "outputId": "92920ee3-1e56-4a62-8173-f72afa84fc17"
      },
      "outputs": [
        {
          "data": {
            "text/plain": [
              "array([[ True, False,  True],\n",
              "       [ True,  True, False],\n",
              "       [False,  True,  True]])"
            ]
          },
          "execution_count": 99,
          "metadata": {},
          "output_type": "execute_result"
        }
      ],
      "source": [
        "A > 30"
      ]
    },
    {
      "cell_type": "code",
      "execution_count": null,
      "metadata": {
        "id": "Bym5jwMjtbL0",
        "outputId": "c28989ee-9cc2-44ed-8c44-7299ba513463"
      },
      "outputs": [
        {
          "data": {
            "text/plain": [
              "array([71, 42, 40, 94, 85, 36])"
            ]
          },
          "execution_count": 100,
          "metadata": {},
          "output_type": "execute_result"
        }
      ],
      "source": [
        "A[A > 30]"
      ]
    },
    {
      "cell_type": "markdown",
      "metadata": {
        "id": "WpYwzLJCtbL1"
      },
      "source": [
        "![green-divider](https://user-images.githubusercontent.com/7065401/52071924-c003ad80-2562-11e9-8297-1c6595f8a7ff.png)\n",
        "\n",
        "## Linear Algebra"
      ]
    },
    {
      "cell_type": "code",
      "execution_count": null,
      "metadata": {
        "id": "LPB68yROtbL1"
      },
      "outputs": [],
      "source": [
        "A = np.array([\n",
        "    [1, 2, 3],\n",
        "    [4, 5, 6],\n",
        "    [7, 8, 9]\n",
        "])"
      ]
    },
    {
      "cell_type": "code",
      "execution_count": null,
      "metadata": {
        "id": "0BlQg5agtbL1"
      },
      "outputs": [],
      "source": [
        "B = np.array([\n",
        "    [6, 5],\n",
        "    [4, 3],\n",
        "    [2, 1]\n",
        "])"
      ]
    },
    {
      "cell_type": "code",
      "execution_count": null,
      "metadata": {
        "id": "mIefvze_tbL2",
        "outputId": "c53bdf5d-4b43-49dc-a810-bc91d271f395"
      },
      "outputs": [
        {
          "data": {
            "text/plain": [
              "array([[20, 14],\n",
              "       [56, 41],\n",
              "       [92, 68]])"
            ]
          },
          "execution_count": 103,
          "metadata": {},
          "output_type": "execute_result"
        }
      ],
      "source": [
        "A.dot(B)"
      ]
    },
    {
      "cell_type": "code",
      "execution_count": null,
      "metadata": {
        "id": "pJJs3EB9tbL2",
        "outputId": "f9f47658-2c3f-482d-e7e8-fafb2d5b5dd2"
      },
      "outputs": [
        {
          "data": {
            "text/plain": [
              "array([[20, 14],\n",
              "       [56, 41],\n",
              "       [92, 68]])"
            ]
          },
          "execution_count": 104,
          "metadata": {},
          "output_type": "execute_result"
        }
      ],
      "source": [
        "A @ B"
      ]
    },
    {
      "cell_type": "code",
      "execution_count": null,
      "metadata": {
        "id": "l5RX88yAtbL3",
        "outputId": "4f3fe762-25ad-4488-ec25-3932906efa10"
      },
      "outputs": [
        {
          "data": {
            "text/plain": [
              "array([[6, 4, 2],\n",
              "       [5, 3, 1]])"
            ]
          },
          "execution_count": 105,
          "metadata": {},
          "output_type": "execute_result"
        }
      ],
      "source": [
        "B.T"
      ]
    },
    {
      "cell_type": "code",
      "execution_count": null,
      "metadata": {
        "id": "yLsQEV_CtbL3",
        "outputId": "b78225f8-2dc9-4d6e-8ba1-15e6ec2ed166"
      },
      "outputs": [
        {
          "data": {
            "text/plain": [
              "array([[1, 2, 3],\n",
              "       [4, 5, 6],\n",
              "       [7, 8, 9]])"
            ]
          },
          "execution_count": 106,
          "metadata": {},
          "output_type": "execute_result"
        }
      ],
      "source": [
        "A"
      ]
    },
    {
      "cell_type": "code",
      "execution_count": null,
      "metadata": {
        "scrolled": true,
        "id": "BcP-ncW4tbL4",
        "outputId": "07cd535e-793c-4c94-8d70-d40c35a2fae6"
      },
      "outputs": [
        {
          "data": {
            "text/plain": [
              "array([[36, 48, 60],\n",
              "       [24, 33, 42]])"
            ]
          },
          "execution_count": 107,
          "metadata": {},
          "output_type": "execute_result"
        }
      ],
      "source": [
        "B.T @ A"
      ]
    },
    {
      "cell_type": "markdown",
      "metadata": {
        "id": "CV8xkYFztbL4"
      },
      "source": [
        "![green-divider](https://user-images.githubusercontent.com/7065401/52071924-c003ad80-2562-11e9-8297-1c6595f8a7ff.png)\n",
        "\n",
        "## Size of objects in Memory"
      ]
    },
    {
      "cell_type": "markdown",
      "metadata": {
        "id": "sPZuGkzNtbL4"
      },
      "source": [
        "### Int, floats"
      ]
    },
    {
      "cell_type": "code",
      "execution_count": null,
      "metadata": {
        "id": "Rnb7CBcGtbL5",
        "outputId": "c2868a4f-d8a4-49f2-d28b-642c3f9c78bd"
      },
      "outputs": [
        {
          "data": {
            "text/plain": [
              "28"
            ]
          },
          "execution_count": 108,
          "metadata": {},
          "output_type": "execute_result"
        }
      ],
      "source": [
        "# An integer in Python is > 24bytes\n",
        "sys.getsizeof(1)"
      ]
    },
    {
      "cell_type": "code",
      "execution_count": null,
      "metadata": {
        "scrolled": true,
        "id": "lw1ivmS9tbL6",
        "outputId": "87850aa2-4afa-4f46-94b6-fb698db142ed"
      },
      "outputs": [
        {
          "data": {
            "text/plain": [
              "72"
            ]
          },
          "execution_count": 109,
          "metadata": {},
          "output_type": "execute_result"
        }
      ],
      "source": [
        "# Longs are even larger\n",
        "sys.getsizeof(10**100)"
      ]
    },
    {
      "cell_type": "code",
      "execution_count": null,
      "metadata": {
        "scrolled": true,
        "id": "mpWVQ1Q4tbL6",
        "outputId": "f034979e-8261-432e-cc7f-461d11322657"
      },
      "outputs": [
        {
          "data": {
            "text/plain": [
              "8"
            ]
          },
          "execution_count": 110,
          "metadata": {},
          "output_type": "execute_result"
        }
      ],
      "source": [
        "# Numpy size is much smaller\n",
        "np.dtype(int).itemsize"
      ]
    },
    {
      "cell_type": "code",
      "execution_count": null,
      "metadata": {
        "scrolled": true,
        "id": "TxsV6yIvtbL7",
        "outputId": "d26433ef-74f3-42b2-cf90-1146bde3ff15"
      },
      "outputs": [
        {
          "data": {
            "text/plain": [
              "1"
            ]
          },
          "execution_count": 112,
          "metadata": {},
          "output_type": "execute_result"
        }
      ],
      "source": [
        "# Numpy size is much smaller\n",
        "np.dtype(np.int8).itemsize"
      ]
    },
    {
      "cell_type": "code",
      "execution_count": null,
      "metadata": {
        "scrolled": true,
        "id": "qf422g6CtbL8",
        "outputId": "e47e2c14-8815-4d16-efdb-1f07638c6a1e"
      },
      "outputs": [
        {
          "data": {
            "text/plain": [
              "8"
            ]
          },
          "execution_count": 111,
          "metadata": {},
          "output_type": "execute_result"
        }
      ],
      "source": [
        "np.dtype(float).itemsize"
      ]
    },
    {
      "cell_type": "markdown",
      "metadata": {
        "id": "HO_GXxTYtbL8"
      },
      "source": [
        "### Lists are even larger"
      ]
    },
    {
      "cell_type": "code",
      "execution_count": null,
      "metadata": {
        "id": "PG3zXeACtbL9"
      },
      "outputs": [],
      "source": [
        "# A one-element list\n",
        "sys.getsizeof([1])"
      ]
    },
    {
      "cell_type": "code",
      "execution_count": null,
      "metadata": {
        "scrolled": true,
        "id": "PAD4HEMztbL9"
      },
      "outputs": [],
      "source": [
        "# An array of one element in numpy\n",
        "np.array([1]).nbytes"
      ]
    },
    {
      "cell_type": "markdown",
      "metadata": {
        "id": "vIZyAf9AtbL9"
      },
      "source": [
        "### And performance is also important"
      ]
    },
    {
      "cell_type": "code",
      "execution_count": null,
      "metadata": {
        "id": "InY_Eb9jtbL-"
      },
      "outputs": [],
      "source": [
        "l = list(range(100000))"
      ]
    },
    {
      "cell_type": "code",
      "execution_count": null,
      "metadata": {
        "id": "j_rxRZ2dtbL-"
      },
      "outputs": [],
      "source": [
        "a = np.arange(100000)"
      ]
    },
    {
      "cell_type": "code",
      "execution_count": null,
      "metadata": {
        "scrolled": true,
        "id": "2IMvD3o4tbL-",
        "outputId": "fac980eb-3fec-45a1-ff72-c8005bafbd03"
      },
      "outputs": [
        {
          "name": "stdout",
          "output_type": "stream",
          "text": [
            "CPU times: user 1.06 ms, sys: 279 µs, total: 1.34 ms\n",
            "Wall time: 701 µs\n"
          ]
        },
        {
          "data": {
            "text/plain": [
              "333328333350000"
            ]
          },
          "execution_count": 119,
          "metadata": {},
          "output_type": "execute_result"
        }
      ],
      "source": [
        "%time np.sum(a ** 2)"
      ]
    },
    {
      "cell_type": "code",
      "execution_count": null,
      "metadata": {
        "scrolled": true,
        "id": "l_4n2_p1tbL_",
        "outputId": "93f3a95c-3915-4a65-eba9-0e44e7bee315"
      },
      "outputs": [
        {
          "name": "stdout",
          "output_type": "stream",
          "text": [
            "CPU times: user 36.1 ms, sys: 0 ns, total: 36.1 ms\n",
            "Wall time: 35.5 ms\n"
          ]
        },
        {
          "data": {
            "text/plain": [
              "333328333350000"
            ]
          },
          "execution_count": 120,
          "metadata": {},
          "output_type": "execute_result"
        }
      ],
      "source": [
        "%time sum([x ** 2 for x in l])"
      ]
    },
    {
      "cell_type": "markdown",
      "metadata": {
        "id": "hh9wZnu3tbL_"
      },
      "source": [
        "![green-divider](https://user-images.githubusercontent.com/7065401/52071924-c003ad80-2562-11e9-8297-1c6595f8a7ff.png)\n",
        "\n",
        "## Useful Numpy functions"
      ]
    },
    {
      "cell_type": "markdown",
      "metadata": {
        "id": "y4NZfwwmtbMA"
      },
      "source": [
        "### `random`"
      ]
    },
    {
      "cell_type": "code",
      "execution_count": null,
      "metadata": {
        "id": "ydHXZJNutbMA"
      },
      "outputs": [],
      "source": [
        "np.random.random(size=2)"
      ]
    },
    {
      "cell_type": "code",
      "execution_count": null,
      "metadata": {
        "id": "O1IUvJPrtbMB"
      },
      "outputs": [],
      "source": [
        "np.random.normal(size=2)"
      ]
    },
    {
      "cell_type": "code",
      "execution_count": null,
      "metadata": {
        "id": "aNcFdT9ItbMC"
      },
      "outputs": [],
      "source": [
        "np.random.rand(2, 4)"
      ]
    },
    {
      "cell_type": "markdown",
      "metadata": {
        "id": "NYHLqTeDtbMC"
      },
      "source": [
        "---\n",
        "### `arange`"
      ]
    },
    {
      "cell_type": "code",
      "execution_count": null,
      "metadata": {
        "id": "ZGG_uDQFtbMC"
      },
      "outputs": [],
      "source": [
        "np.arange(10)"
      ]
    },
    {
      "cell_type": "code",
      "execution_count": null,
      "metadata": {
        "id": "e9qwbzVBtbMD"
      },
      "outputs": [],
      "source": [
        "np.arange(5, 10)"
      ]
    },
    {
      "cell_type": "code",
      "execution_count": null,
      "metadata": {
        "id": "mJX9lYfRtbMD"
      },
      "outputs": [],
      "source": [
        "np.arange(0, 1, .1)"
      ]
    },
    {
      "cell_type": "markdown",
      "metadata": {
        "id": "UvQozMJUtbME"
      },
      "source": [
        "---\n",
        "### `reshape`"
      ]
    },
    {
      "cell_type": "code",
      "execution_count": null,
      "metadata": {
        "id": "oolppbJotbME"
      },
      "outputs": [],
      "source": [
        "np.arange(10).reshape(2, 5)"
      ]
    },
    {
      "cell_type": "code",
      "execution_count": null,
      "metadata": {
        "id": "VIuR99G-tbME"
      },
      "outputs": [],
      "source": [
        "np.arange(10).reshape(5, 2)"
      ]
    },
    {
      "cell_type": "markdown",
      "metadata": {
        "id": "Rz21eyTvtbME"
      },
      "source": [
        "---\n",
        "### `linspace`"
      ]
    },
    {
      "cell_type": "code",
      "execution_count": null,
      "metadata": {
        "id": "xekksn0XtbMF"
      },
      "outputs": [],
      "source": [
        "np.linspace(0, 1, 5)"
      ]
    },
    {
      "cell_type": "code",
      "execution_count": null,
      "metadata": {
        "id": "nVczfUW5tbMF"
      },
      "outputs": [],
      "source": [
        "np.linspace(0, 1, 20)"
      ]
    },
    {
      "cell_type": "code",
      "execution_count": null,
      "metadata": {
        "scrolled": true,
        "id": "C-m8hAGxtbMF"
      },
      "outputs": [],
      "source": [
        "np.linspace(0, 1, 20, False)"
      ]
    },
    {
      "cell_type": "markdown",
      "metadata": {
        "id": "HuzOZuTItbMG"
      },
      "source": [
        "---\n",
        "### `zeros`, `ones`, `empty`"
      ]
    },
    {
      "cell_type": "code",
      "execution_count": null,
      "metadata": {
        "id": "F1aHWDw8tbMG"
      },
      "outputs": [],
      "source": [
        "np.zeros(5)"
      ]
    },
    {
      "cell_type": "code",
      "execution_count": null,
      "metadata": {
        "scrolled": true,
        "id": "TjabStzUtbMG"
      },
      "outputs": [],
      "source": [
        "np.zeros((3, 3))"
      ]
    },
    {
      "cell_type": "code",
      "execution_count": null,
      "metadata": {
        "scrolled": true,
        "id": "eSzF5lZ1tbMH"
      },
      "outputs": [],
      "source": [
        "np.zeros((3, 3), dtype=np.int)"
      ]
    },
    {
      "cell_type": "code",
      "execution_count": null,
      "metadata": {
        "id": "3I7ooVUJtbMH"
      },
      "outputs": [],
      "source": [
        "np.ones(5)"
      ]
    },
    {
      "cell_type": "code",
      "execution_count": null,
      "metadata": {
        "id": "dOJaOKYctbMH"
      },
      "outputs": [],
      "source": [
        "np.ones((3, 3))"
      ]
    },
    {
      "cell_type": "code",
      "execution_count": null,
      "metadata": {
        "id": "PH_t7c5jtbMI"
      },
      "outputs": [],
      "source": [
        "np.empty(5)"
      ]
    },
    {
      "cell_type": "code",
      "execution_count": null,
      "metadata": {
        "scrolled": true,
        "id": "Y4JoLp2utbMI"
      },
      "outputs": [],
      "source": [
        "np.empty((2, 2))"
      ]
    },
    {
      "cell_type": "markdown",
      "metadata": {
        "id": "1DO0HWcntbMJ"
      },
      "source": [
        "---\n",
        "### `identity` and `eye`"
      ]
    },
    {
      "cell_type": "code",
      "execution_count": null,
      "metadata": {
        "id": "-WWt-RP1tbMJ"
      },
      "outputs": [],
      "source": [
        "np.identity(3)"
      ]
    },
    {
      "cell_type": "code",
      "execution_count": null,
      "metadata": {
        "id": "tAswZOY5tbMJ"
      },
      "outputs": [],
      "source": [
        "np.eye(3, 3)"
      ]
    },
    {
      "cell_type": "code",
      "execution_count": null,
      "metadata": {
        "id": "3MaXc80EtbMK"
      },
      "outputs": [],
      "source": [
        "np.eye(8, 4)"
      ]
    },
    {
      "cell_type": "code",
      "execution_count": null,
      "metadata": {
        "scrolled": true,
        "id": "S5KaNv68tbMK"
      },
      "outputs": [],
      "source": [
        "np.eye(8, 4, k=1)"
      ]
    },
    {
      "cell_type": "code",
      "execution_count": null,
      "metadata": {
        "id": "tgbNY8rQtbML"
      },
      "outputs": [],
      "source": [
        "np.eye(8, 4, k=-3)"
      ]
    },
    {
      "cell_type": "code",
      "execution_count": null,
      "metadata": {
        "scrolled": true,
        "id": "cpAihUnLtbML"
      },
      "outputs": [],
      "source": [
        "\"Hello World\"[6]"
      ]
    },
    {
      "cell_type": "markdown",
      "metadata": {
        "id": "eCmsWghutbML"
      },
      "source": [
        "![purple-divider](https://user-images.githubusercontent.com/7065401/52071927-c1cd7100-2562-11e9-908a-dde91ba14e59.png)"
      ]
    }
  ],
  "metadata": {
    "kernelspec": {
      "display_name": "Python 3",
      "language": "python",
      "name": "python3"
    },
    "language_info": {
      "codemirror_mode": {
        "name": "ipython",
        "version": 3
      },
      "file_extension": ".py",
      "mimetype": "text/x-python",
      "name": "python",
      "nbconvert_exporter": "python",
      "pygments_lexer": "ipython3",
      "version": "3.8.1"
    },
    "colab": {
      "provenance": []
    }
  },
  "nbformat": 4,
  "nbformat_minor": 0
}